{
 "cells": [
  {
   "cell_type": "code",
   "execution_count": 3,
   "id": "3830a648-4c10-455a-8650-f198c7cdfa65",
   "metadata": {},
   "outputs": [],
   "source": [
    "import pandas as pd\n",
    "import numpy as np\n",
    "\n",
    "median_grades = {\n",
    "    'Adam': {'Math': 11, 'Science': 9, 'Reading': 16, 'History': 13.5},\n",
    "    'Anna': {'Math': 12, 'Science': 11, 'Reading': 8.5, 'History': 10},\n",
    "    'James': {'Math': 11, 'Science': 18, 'Reading': 11.5, 'History': 9},\n",
    "    'Corey': {'Math': 7, 'Science': 15.5, 'Reading': 11, 'History': 14},\n",
    "    'Alisha': {'Math': 9.5, 'Science': 12, 'Reading': 10.5, 'History': 14},\n",
    "    'Jodie': {'Math': 15, 'Science': 18.5, 'Reading': 7, 'History': 12},\n",
    "    'John': {'Math': 18, 'Science': 15.5, 'Reading': 11, 'History': 7.5}\n",
    "}\n",
    "\n",
    "# create DataFrame from the dictionary\n",
    "df = pd.DataFrame(median_grades)\n"
   ]
  },
  {
   "cell_type": "code",
   "execution_count": 4,
   "id": "fe25f3f0-c3d0-44db-b9a2-78e7813f1ef8",
   "metadata": {},
   "outputs": [
    {
     "name": "stdout",
     "output_type": "stream",
     "text": [
      "11.928571428571429\n",
      "14.214285714285714\n",
      "10.785714285714286\n",
      "11.428571428571429\n"
     ]
    }
   ],
   "source": [
    "# Questions 1: calc the mean for each subject\n",
    "\n",
    "# transpose DataFrame to swap the indexes to the subjects instead of names\n",
    "df_transposed = df.T\n",
    "\n",
    "math_mean = df_transposed['Math'].mean()\n",
    "print(math_mean)\n",
    "\n",
    "science_mean = df_transposed['Science'].mean()\n",
    "print(science_mean)\n",
    "\n",
    "reading_mean = df_transposed['Reading'].mean()\n",
    "print(reading_mean)\n",
    "\n",
    "history_mean = df_transposed['History'].mean()\n",
    "print(history_mean)\n",
    "\n"
   ]
  },
  {
   "cell_type": "code",
   "execution_count": 27,
   "id": "bf4019f9-99c9-471b-813a-d48b454bedbe",
   "metadata": {},
   "outputs": [
    {
     "data": {
      "text/plain": [
       "11.0"
      ]
     },
     "execution_count": 27,
     "metadata": {},
     "output_type": "execute_result"
    }
   ],
   "source": [
    "# find meadian grade in math for all students\n",
    "\n",
    "math_median = df_transposed['Math'].median()\n",
    "math_median"
   ]
  },
  {
   "cell_type": "code",
   "execution_count": 5,
   "id": "28e57cca-a1d9-45e8-adb1-0b02179c6a9f",
   "metadata": {},
   "outputs": [
    {
     "data": {
      "text/plain": [
       "0    14.0\n",
       "Name: History, dtype: float64"
      ]
     },
     "execution_count": 5,
     "metadata": {},
     "output_type": "execute_result"
    }
   ],
   "source": [
    "# calc mode for history\n",
    "\n",
    "history_mode = df_transposed['History'].mode()\n",
    "history_mode"
   ]
  },
  {
   "cell_type": "code",
   "execution_count": 15,
   "id": "fe47cfab-6c51-4886-9a5b-e28d62cc9044",
   "metadata": {},
   "outputs": [
    {
     "data": {
      "text/html": [
       "<div>\n",
       "<style scoped>\n",
       "    .dataframe tbody tr th:only-of-type {\n",
       "        vertical-align: middle;\n",
       "    }\n",
       "\n",
       "    .dataframe tbody tr th {\n",
       "        vertical-align: top;\n",
       "    }\n",
       "\n",
       "    .dataframe thead th {\n",
       "        text-align: right;\n",
       "    }\n",
       "</style>\n",
       "<table border=\"1\" class=\"dataframe\">\n",
       "  <thead>\n",
       "    <tr style=\"text-align: right;\">\n",
       "      <th></th>\n",
       "      <th>Math</th>\n",
       "      <th>Science</th>\n",
       "      <th>Reading</th>\n",
       "      <th>History</th>\n",
       "    </tr>\n",
       "  </thead>\n",
       "  <tbody>\n",
       "    <tr>\n",
       "      <th>Math</th>\n",
       "      <td>1.000000</td>\n",
       "      <td>0.269494</td>\n",
       "      <td>-0.268562</td>\n",
       "      <td>-0.718358</td>\n",
       "    </tr>\n",
       "    <tr>\n",
       "      <th>Science</th>\n",
       "      <td>0.269494</td>\n",
       "      <td>1.000000</td>\n",
       "      <td>-0.527606</td>\n",
       "      <td>-0.358688</td>\n",
       "    </tr>\n",
       "    <tr>\n",
       "      <th>Reading</th>\n",
       "      <td>-0.268562</td>\n",
       "      <td>-0.527606</td>\n",
       "      <td>1.000000</td>\n",
       "      <td>0.206794</td>\n",
       "    </tr>\n",
       "    <tr>\n",
       "      <th>History</th>\n",
       "      <td>-0.718358</td>\n",
       "      <td>-0.358688</td>\n",
       "      <td>0.206794</td>\n",
       "      <td>1.000000</td>\n",
       "    </tr>\n",
       "  </tbody>\n",
       "</table>\n",
       "</div>"
      ],
      "text/plain": [
       "             Math   Science   Reading   History\n",
       "Math     1.000000  0.269494 -0.268562 -0.718358\n",
       "Science  0.269494  1.000000 -0.527606 -0.358688\n",
       "Reading -0.268562 -0.527606  1.000000  0.206794\n",
       "History -0.718358 -0.358688  0.206794  1.000000"
      ]
     },
     "execution_count": 15,
     "metadata": {},
     "output_type": "execute_result"
    }
   ],
   "source": [
    "\n",
    "# Question 2:\n",
    "# Given the following grades from Question 1, calculate the correlation between the different subjects\n",
    "\n",
    "df_transposed.corr()\n",
    "\n"
   ]
  },
  {
   "cell_type": "code",
   "execution_count": 16,
   "id": "57e80fe4-175b-4ba1-957c-175c698b1581",
   "metadata": {},
   "outputs": [
    {
     "data": {
      "text/plain": [
       "('Jodie', 'Science')"
      ]
     },
     "execution_count": 16,
     "metadata": {},
     "output_type": "execute_result"
    }
   ],
   "source": [
    "# What two subjects have the strongest correlation?\n",
    "df_transposed.stack().idxmax()"
   ]
  },
  {
   "cell_type": "code",
   "execution_count": 31,
   "id": "4a2e2382-ef82-4145-b366-582d820943e0",
   "metadata": {},
   "outputs": [
    {
     "name": "stdout",
     "output_type": "stream",
     "text": [
      "count    23.000000\n",
      "mean     59.478261\n",
      "std      26.350556\n",
      "min       5.000000\n",
      "25%      46.500000\n",
      "50%      60.000000\n",
      "75%      81.000000\n",
      "max      99.000000\n",
      "dtype: float64\n",
      "range: 94\n",
      "variance: 694.3517786561266\n",
      "mode: 0    60\n",
      "dtype: int64\n"
     ]
    }
   ],
   "source": [
    "grades = [24, 5, 15, 60, 54, 82, 99, 80, 70, 98, 93, 60, 33, 22, 65, 61, 51, 58, 83, 86, 42, 67, 60]\n",
    "\n",
    "# Question 3: write a Python function desc_stats() that takes a list of numbers and prints the stats calculations\n",
    "\n",
    "def desc_stats(grades):\n",
    "    # convery grades to Pandas series\n",
    "    grades_series = pd.Series(grades)\n",
    "    # use .describe\n",
    "    stats = grades_series.describe()\n",
    "    range = grades_series.max() - grades_series.min()\n",
    "    variance = grades_series.var()\n",
    "    mode = grades_series.mode()\n",
    "    print(stats)\n",
    "    print(f'range: {range}')\n",
    "    print(f'variance: {variance}')\n",
    "    print(f'mode: {mode}')\n",
    "\n",
    "# call function\n",
    "\n",
    "desc_stats(grades)\n"
   ]
  },
  {
   "cell_type": "code",
   "execution_count": null,
   "id": "61ea123f-d80e-4588-8c24-975a9cb4a37a",
   "metadata": {},
   "outputs": [],
   "source": []
  }
 ],
 "metadata": {
  "kernelspec": {
   "display_name": "Python 3 (ipykernel)",
   "language": "python",
   "name": "python3"
  },
  "language_info": {
   "codemirror_mode": {
    "name": "ipython",
    "version": 3
   },
   "file_extension": ".py",
   "mimetype": "text/x-python",
   "name": "python",
   "nbconvert_exporter": "python",
   "pygments_lexer": "ipython3",
   "version": "3.11.7"
  }
 },
 "nbformat": 4,
 "nbformat_minor": 5
}
